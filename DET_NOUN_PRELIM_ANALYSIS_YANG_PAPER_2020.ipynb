{
 "cells": [
  {
   "cell_type": "code",
   "execution_count": null,
   "metadata": {},
   "outputs": [],
   "source": [
    "import pandas as pd \n",
    "import spacy \n",
    "nlp = spacy.load('en_core_web_lg')"
   ]
  },
  {
   "cell_type": "code",
   "execution_count": null,
   "metadata": {},
   "outputs": [],
   "source": [
    "###NOTES FOR DOCUMENTATION###\n",
    "#### overlap is computed as the percentage of noun types used with both\n",
    "## determiners divided by the total number of noun types used with either determiner (or both determiners) ###\n",
    "### We quantify the bias toward one or another\n",
    "## determiner for each speaker. For each noun in a corpus, we count and compare the number of\n",
    "## times the noun appears with a/an and the number of times it occurs with the. The ratio of the\n",
    "## larger number of determiners to the total number is the measure of determiner bias."
   ]
  },
  {
   "cell_type": "code",
   "execution_count": null,
   "metadata": {},
   "outputs": [],
   "source": [
    "subj_ids = [\n",
    "22,24,25,27,28,29,33,37,38,39,40,42,43,44,45,47,48,49,50,51,54,55,58,\n",
    "59,61,62,64,65,66,68,72,73,74,75,76,77,78,79,80,81,82,83,84,85,87,88,\n",
    "89,91,92,100,102,103,105,106,107,108,109,110,119,123,124,125,126,127]\n",
    "\n",
    "sessions=[1,2,3]\n"
   ]
  },
  {
   "cell_type": "code",
   "execution_count": null,
   "metadata": {},
   "outputs": [],
   "source": [
    "class DeterminerNounConstruction():\n",
    "   \n",
    "    def det_noun_phrase(self, x):\n",
    "        x = nlp(x)\n",
    "        for token in x:\n",
    "            if (token.pos_ == 'NOUN') and (x[token.i - 1].pos_ == 'DET'):\n",
    "                return 'noun_phrase'\n",
    "\n",
    "    def noun_phrase_indef_def(self, x):\n",
    "        x = nlp(x)\n",
    "        indef = ['a', 'an']\n",
    "        indef_count = 0\n",
    "        def_count = 0\n",
    "        for token in x:\n",
    "            if (token.pos_ == 'NOUN') and (x[token.i - 1].pos_ == 'DET') and (x[token.i - 1].text in indef):\n",
    "                indef_str = 'a' + ' ' + token.text\n",
    "                indef_count += 1\n",
    "            if (token.pos_ == 'NOUN') and (x[token.i - 1].pos_ == 'DET') and (x[token.i - 1].text == 'the'):\n",
    "                def_count += 1\n",
    "                def_str = 'the' + ' ' + token.text\n",
    "        if (indef_count > 0) and (def_count > 0):\n",
    "            return \"definite_&_indefinite_noun_phrases\"\n",
    "        if indef_count > 0:\n",
    "            return [\"noun_phrase_indefinite\", indef_str]\n",
    "        if def_count > 0:\n",
    "            return [\"noun_phrase_definite\", def_str]\n",
    "\n",
    "\n",
    "    def noun_phrase_possessives(self, x):\n",
    "        x = nlp(x)\n",
    "        poss = ['my', 'mine', 'your', 'yours', 'their', 'theirs', 'his', 'her', 'hers', 'its', 'ours', 'our']\n",
    "        indef_count = 0\n",
    "        def_count = 0\n",
    "        for token in x:\n",
    "            if (token.pos_ == 'NOUN') and (x[token.i - 1].pos_ == 'DET') and (x[token.i - 1].text in poss):\n",
    "                return 'noun_phrase_possessive'\n",
    "            if token.dep_ == 'poss':\n",
    "                pos = [part.pos_ for part in x[token.i:]]\n",
    "                if \"NOUN\" in pos:\n",
    "                    return 'possessive_noun_phrase'\n",
    "\n",
    "\n",
    "    def noun_phrase_demonstratives(self, x):\n",
    "        x = nlp(x)\n",
    "        demos = ['this', 'that', 'these', 'those']\n",
    "        for token in x:\n",
    "            if (token.pos_ == 'NOUN') and (x[token.i - 1].pos_ == 'DET') and (x[token.i - 1].text in demos):\n",
    "                return 'noun_phrase_demonstratives'\n",
    "    \n",
    "    def adj_noun_phrase(self, x):\n",
    "        x = nlp(x)\n",
    "        adj_count = 0\n",
    "        adj_np = False\n",
    "        for i, token in enumerate(x):\n",
    "            if token.pos_ == 'DET':\n",
    "                segs =[seg.pos_ for seg in x[i:]]\n",
    "                segs = ['NOUN' if (s == 'PRON') or (s=='PROPN') else s for s in segs]\n",
    "                if \"NOUN\" not in segs:\n",
    "                    return ['', '']\n",
    "                for s in segs:\n",
    "                    if s == 'ADJ':\n",
    "                        adj_count += 1\n",
    "                        adj_np = True\n",
    "        if adj_np == True:\n",
    "            return adj_count, \"adj_noun_phrase\"\n",
    "        else:\n",
    "            return ['', '']\n",
    "        \n",
    "    def noun_phrase(self, x):\n",
    "        x = nlp(x)\n",
    "        count = 0\n",
    "        np = False\n",
    "        nps = ['NOUN', 'PROPN', 'PRON']\n",
    "\n",
    "        segs =[seg.pos_ for seg in x[:]]\n",
    "        segs = ['NOUN' if (s == 'PRON') or (s=='PROPN') else s for s in segs]\n",
    "        if \"NOUN\" not in segs:\n",
    "            return None \n",
    "        for s in segs:\n",
    "            if s in nps:\n",
    "                count += 1\n",
    "                np = True\n",
    "        if np == True and len(x) == 2:\n",
    "            return \"one_word_noun_phrase\"\n",
    "        elif np == True and len(x) > 2:\n",
    "            return 'noun_phrase'\n",
    "    \n",
    "\n",
    "ndc = DeterminerNounConstruction()\n",
    "\n",
    "ndc.noun_phrase_indef_def('where can we find the whale')\n"
   ]
  },
  {
   "cell_type": "code",
   "execution_count": null,
   "metadata": {},
   "outputs": [],
   "source": [
    "def det_use(x):\n",
    "    \n",
    "    all_nouns = []\n",
    "    a_nouns = []\n",
    "    the_nouns = []\n",
    "    both_nouns = []\n",
    "    for np in x:\n",
    "        all_nouns.append(np.split()[1])\n",
    "        if np.split()[0] == 'a':\n",
    "            a_nouns.append(np.split()[1])\n",
    "        else:\n",
    "            the_nouns.append(np.split()[1])\n",
    "    for word in a_nouns:\n",
    "        if word in the_nouns:\n",
    "            if word not in both_nouns:\n",
    "                both_nouns.append(word)\n",
    "            \n",
    "    return [len(both_nouns), len(a_nouns), len(the_nouns), len(list(set(all_nouns))), both_nouns]"
   ]
  },
  {
   "cell_type": "code",
   "execution_count": null,
   "metadata": {},
   "outputs": [],
   "source": [
    "df_1_3 = pd.read_csv('sesssions_1_3_noun_phrases.csv')"
   ]
  },
  {
   "cell_type": "code",
   "execution_count": null,
   "metadata": {},
   "outputs": [],
   "source": [
    "df_1_3 = df_1_3[['subject', 'session', 'p_utts_orig', 'c_utts_orig', \n",
    "                'parent_noun_phrase', 'parent_noun_phrase_indef_def',\n",
    "                'parent_noun_phrase_possessives', 'parent_noun_phrase_demonstratives',\n",
    "                'child_noun_phrase', 'child_noun_phrase_indef_def', 'child_noun_phrase_possessives',\n",
    "                'child_noun_phrase_demonstratives']]"
   ]
  },
  {
   "cell_type": "code",
   "execution_count": null,
   "metadata": {},
   "outputs": [],
   "source": [
    "df_1_3['parent_noun_phrase_indef'] = df_1_3['parent_noun_phrase_indef_def'].map(lambda x: True if x=='noun_phrase_indefinite' else False)\n",
    "\n",
    "df_1_3['parent_noun_phrase_def'] = df_1_3['parent_noun_phrase_indef_def'].map(lambda x: True if x=='noun_phrase_definite' else False)\n",
    "\n",
    "df_1_3['parent_indefinite_string'] = df_1_3[df_1_3['parent_noun_phrase_indef'] == True]['p_utts_orig'].map(lambda x: ndc.noun_phrase_indef_def(x)[1])\n",
    "\n",
    "df_1_3['parent_definite_string'] = df_1_3[df_1_3['parent_noun_phrase_def'] == True]['p_utts_orig'].map(lambda x: ndc.noun_phrase_indef_def(x)[1])"
   ]
  },
  {
   "cell_type": "code",
   "execution_count": null,
   "metadata": {},
   "outputs": [],
   "source": [
    "df_1_3['child_noun_phrase_indef'] = df_1_3['child_noun_phrase_indef_def'].map(lambda x: True if x=='noun_phrase_indefinite' else False)\n",
    "\n",
    "df_1_3['child_noun_phrase_def'] = df_1_3['child_noun_phrase_indef_def'].map(lambda x: True if x=='noun_phrase_definite' else False)\n",
    "\n",
    "df_1_3['child_indefinite_string'] = df_1_3[df_1_3['child_noun_phrase_indef'] == True]['c_utts_orig'].map(lambda x: ndc.noun_phrase_indef_def(x)[1])\n",
    "\n",
    "df_1_3['child_definite_string'] = df_1_3[df_1_3['child_noun_phrase_def'] == True]['c_utts_orig'].map(lambda x: ndc.noun_phrase_indef_def(x)[1])"
   ]
  },
  {
   "cell_type": "code",
   "execution_count": null,
   "metadata": {},
   "outputs": [],
   "source": [
    "dfs = []\n",
    "\n",
    "\n",
    "for i in subj_ids:\n",
    "    for s in sessions:\n",
    "        df = df_1_3[(df_1_3['subject'] == i) & (df_1_3['session'] == s)]\n",
    "        df = df_1_3[(df_1_3['subject'] == i) & (df_1_3['session'] == s)]\n",
    "        dfs.append(df)\n",
    "\n",
    "        "
   ]
  },
  {
   "cell_type": "code",
   "execution_count": null,
   "metadata": {},
   "outputs": [],
   "source": [
    "count = 0\n",
    "the_np_counts = []\n",
    "a_np_counts = []\n",
    "overlap_proportion = []\n",
    "sessions = []\n",
    "subject = []\n",
    "for df in dfs:\n",
    "    if len(df) > 1:\n",
    "        det_a_num = len(df[df['parent_noun_phrase_indef'] == True])\n",
    "        det_the_num = len(df[df['parent_noun_phrase_def'] == True])\n",
    "        a_np_counts.append(det_a_num)\n",
    "        the_np_counts.append(det_the_num)\n",
    "        sub = df.subject.tolist()[0]\n",
    "        session = df.session.tolist()[0]\n",
    "        subject.append(sub)\n",
    "        sessions.append(session)\n",
    "        count += 1\n",
    "\n",
    "\n",
    "        det_list = df['parent_definite_string'].fillna('').tolist() + df['parent_indefinite_string'].fillna('').tolist()\n",
    "        det_list = [x for x in det_list if x != '']\n",
    "\n",
    "        overlap_vals = det_use(det_list)\n",
    "\n",
    "        try:\n",
    "            overlap = overlap_vals[0]/overlap_vals[3]\n",
    "\n",
    "            overlap_proportion.append(overlap)\n",
    "        except:\n",
    "            overlap_proportion.append(0)\n",
    "    \n",
    "\n",
    "        \n",
    "        "
   ]
  },
  {
   "cell_type": "code",
   "execution_count": null,
   "metadata": {},
   "outputs": [],
   "source": [
    "det_df = pd.DataFrame(data={'subject':subject, 'session':sessions, 'a_nps_counts': a_np_counts, 'the_nps_counts': the_np_counts, 'overlap': overlap_proportion})"
   ]
  },
  {
   "cell_type": "code",
   "execution_count": null,
   "metadata": {},
   "outputs": [],
   "source": [
    "df1 = det_df[det_df['session'] == 1]\n",
    "df2 = det_df[det_df['session'] == 2]\n",
    "df3 = det_df[det_df['session'] == 3]\n",
    "\n",
    "\n",
    "from scipy import stats\n",
    "\n",
    "t_test_s1 = stats.ttest_rel(df1.a_nps_counts, df1.the_nps_counts)\n",
    "\n",
    "t_test_s2 = stats.ttest_rel(df2.a_nps_counts, df2.the_nps_counts)\n",
    "\n",
    "t_test_s3 = stats.ttest_rel(df3.a_nps_counts, df3.the_nps_counts)"
   ]
  },
  {
   "cell_type": "code",
   "execution_count": null,
   "metadata": {},
   "outputs": [],
   "source": []
  },
  {
   "cell_type": "code",
   "execution_count": null,
   "metadata": {},
   "outputs": [],
   "source": []
  }
 ],
 "metadata": {
  "kernelspec": {
   "display_name": "Python 3",
   "language": "python",
   "name": "python3"
  },
  "language_info": {
   "codemirror_mode": {
    "name": "ipython",
    "version": 3
   },
   "file_extension": ".py",
   "mimetype": "text/x-python",
   "name": "python",
   "nbconvert_exporter": "python",
   "pygments_lexer": "ipython3",
   "version": "3.7.9"
  }
 },
 "nbformat": 4,
 "nbformat_minor": 4
}
